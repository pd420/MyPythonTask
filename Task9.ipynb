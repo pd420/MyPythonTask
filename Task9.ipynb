{
 "cells": [
  {
   "cell_type": "markdown",
   "metadata": {},
   "source": [
    "### Task9\n",
    "\n",
    "#### 1)  Ask 2 numbers from users and store it in num1 and num2\n",
    "\n",
    "#### 2) Ask user to press 1 for addition,2 for subtraction,3 for multiplication and 4 for division based on number given by user do the \n",
    "\n",
    "####     math operation\n",
    "\n"
   ]
  },
  {
   "cell_type": "markdown",
   "metadata": {},
   "source": [
    "Python program for simple calculator (outputs provided for all cases)"
   ]
  },
  {
   "cell_type": "code",
   "execution_count": 2,
   "metadata": {},
   "outputs": [
    {
     "name": "stdout",
     "output_type": "stream",
     "text": [
      "Please select operation -\n",
      "1. Add\n",
      "2. Subtract\n",
      "3. Multiply\n",
      "4. Divide\n",
      "\n",
      "Select operations form 1, 2, 3, 4 :1\n",
      "Enter first number: 5\n",
      "Enter second number: 7\n",
      "12\n"
     ]
    }
   ],
   "source": [
    "print(\"Please select operation -\\n\" \n",
    "        \"1. Add\\n\"  \n",
    "        \"2. Subtract\\n\"  \n",
    "        \"3. Multiply\\n\"  \n",
    "        \"4. Divide\\n\")\n",
    "select = int(input(\"Select operations form 1, 2, 3, 4 :\"))\n",
    "number_1 = int(input(\"Enter first number: \")) \n",
    "number_2 = int(input(\"Enter second number: \")) \n",
    "if select == 1: \n",
    "    num= number_1 + number_2 \n",
    "    print(num)\n",
    "                    \n",
    "  \n",
    "elif select == 2: \n",
    "    num= number_1 - number_2 \n",
    "    print(num)\n",
    "               \n",
    "  \n",
    "elif select == 3: \n",
    "    num= number_1 * number_2 \n",
    "    print(num)\n",
    "               \n",
    "  \n",
    "elif select == 4: \n",
    "    num= number_1 / number_2 \n",
    "    print(num)\n",
    "               \n",
    "else: \n",
    "    print(\"Invalid input\") "
   ]
  },
  {
   "cell_type": "code",
   "execution_count": 3,
   "metadata": {},
   "outputs": [
    {
     "name": "stdout",
     "output_type": "stream",
     "text": [
      "Please select operation -\n",
      "1. Add\n",
      "2. Subtract\n",
      "3. Multiply\n",
      "4. Divide\n",
      "\n",
      "Select operations form 1, 2, 3, 4 :2\n",
      "Enter first number: 7\n",
      "Enter second number: 8\n",
      "-1\n"
     ]
    }
   ],
   "source": [
    "print(\"Please select operation -\\n\" \n",
    "        \"1. Add\\n\"  \n",
    "        \"2. Subtract\\n\"  \n",
    "        \"3. Multiply\\n\"  \n",
    "        \"4. Divide\\n\")\n",
    "select = int(input(\"Select operations form 1, 2, 3, 4 :\"))\n",
    "number_1 = int(input(\"Enter first number: \")) \n",
    "number_2 = int(input(\"Enter second number: \")) \n",
    "if select == 1: \n",
    "    num= number_1 + number_2 \n",
    "    print(num)\n",
    "                    \n",
    "  \n",
    "elif select == 2: \n",
    "    num= number_1 - number_2 \n",
    "    print(num)\n",
    "               \n",
    "  \n",
    "elif select == 3: \n",
    "    num= number_1 * number_2 \n",
    "    print(num)\n",
    "               \n",
    "  \n",
    "elif select == 4: \n",
    "    num= number_1 / number_2 \n",
    "    print(num)\n",
    "               \n",
    "else: \n",
    "    print(\"Invalid input\") "
   ]
  },
  {
   "cell_type": "code",
   "execution_count": 4,
   "metadata": {},
   "outputs": [
    {
     "name": "stdout",
     "output_type": "stream",
     "text": [
      "Please select operation -\n",
      "1. Add\n",
      "2. Subtract\n",
      "3. Multiply\n",
      "4. Divide\n",
      "\n",
      "Select operations form 1, 2, 3, 4 :3\n",
      "Enter first number: 5\n",
      "Enter second number: 5\n",
      "25\n"
     ]
    }
   ],
   "source": [
    "print(\"Please select operation -\\n\" \n",
    "        \"1. Add\\n\"  \n",
    "        \"2. Subtract\\n\"  \n",
    "        \"3. Multiply\\n\"  \n",
    "        \"4. Divide\\n\")\n",
    "select = int(input(\"Select operations form 1, 2, 3, 4 :\"))\n",
    "number_1 = int(input(\"Enter first number: \")) \n",
    "number_2 = int(input(\"Enter second number: \")) \n",
    "if select == 1: \n",
    "    num= number_1 + number_2 \n",
    "    print(num)\n",
    "                    \n",
    "  \n",
    "elif select == 2: \n",
    "    num= number_1 - number_2 \n",
    "    print(num)\n",
    "               \n",
    "  \n",
    "elif select == 3: \n",
    "    num= number_1 * number_2 \n",
    "    print(num)\n",
    "               \n",
    "  \n",
    "elif select == 4: \n",
    "    num= number_1 / number_2 \n",
    "    print(num)\n",
    "               \n",
    "else: \n",
    "    print(\"Invalid input\") "
   ]
  },
  {
   "cell_type": "code",
   "execution_count": 5,
   "metadata": {},
   "outputs": [
    {
     "name": "stdout",
     "output_type": "stream",
     "text": [
      "Please select operation -\n",
      "1. Add\n",
      "2. Subtract\n",
      "3. Multiply\n",
      "4. Divide\n",
      "\n",
      "Select operations form 1, 2, 3, 4 :4\n",
      "Enter first number: 10\n",
      "Enter second number: 5\n",
      "2.0\n"
     ]
    }
   ],
   "source": [
    "print(\"Please select operation -\\n\" \n",
    "        \"1. Add\\n\"  \n",
    "        \"2. Subtract\\n\"  \n",
    "        \"3. Multiply\\n\"  \n",
    "        \"4. Divide\\n\")\n",
    "select = int(input(\"Select operations form 1, 2, 3, 4 :\"))\n",
    "number_1 = int(input(\"Enter first number: \")) \n",
    "number_2 = int(input(\"Enter second number: \")) \n",
    "if select == 1: \n",
    "    num= number_1 + number_2 \n",
    "    print(num)\n",
    "                    \n",
    "  \n",
    "elif select == 2: \n",
    "    num= number_1 - number_2 \n",
    "    print(num)\n",
    "               \n",
    "  \n",
    "elif select == 3: \n",
    "    num= number_1 * number_2 \n",
    "    print(num)\n",
    "               \n",
    "  \n",
    "elif select == 4: \n",
    "    num= number_1 / number_2 \n",
    "    print(num)\n",
    "               \n",
    "else: \n",
    "    print(\"Invalid input\") "
   ]
  },
  {
   "cell_type": "code",
   "execution_count": 6,
   "metadata": {},
   "outputs": [
    {
     "name": "stdout",
     "output_type": "stream",
     "text": [
      "Please select operation -\n",
      "1. Add\n",
      "2. Subtract\n",
      "3. Multiply\n",
      "4. Divide\n",
      "\n",
      "Select operations form 1, 2, 3, 4 :5\n",
      "Enter first number: 4\n",
      "Enter second number: 8\n",
      "Invalid input\n"
     ]
    }
   ],
   "source": [
    "print(\"Please select operation -\\n\" \n",
    "        \"1. Add\\n\"  \n",
    "        \"2. Subtract\\n\"  \n",
    "        \"3. Multiply\\n\"  \n",
    "        \"4. Divide\\n\")\n",
    "select = int(input(\"Select operations form 1, 2, 3, 4 :\"))\n",
    "number_1 = int(input(\"Enter first number: \")) \n",
    "number_2 = int(input(\"Enter second number: \")) \n",
    "if select == 1: \n",
    "    num= number_1 + number_2 \n",
    "    print(num)\n",
    "                    \n",
    "  \n",
    "elif select == 2: \n",
    "    num= number_1 - number_2 \n",
    "    print(num)\n",
    "               \n",
    "  \n",
    "elif select == 3: \n",
    "    num= number_1 * number_2 \n",
    "    print(num)\n",
    "               \n",
    "  \n",
    "elif select == 4: \n",
    "    num= number_1 / number_2 \n",
    "    print(num)\n",
    "               \n",
    "else: \n",
    "    print(\"Invalid input\") "
   ]
  },
  {
   "cell_type": "code",
   "execution_count": null,
   "metadata": {},
   "outputs": [],
   "source": []
  }
 ],
 "metadata": {
  "kernelspec": {
   "display_name": "Python 3",
   "language": "python",
   "name": "python3"
  },
  "language_info": {
   "codemirror_mode": {
    "name": "ipython",
    "version": 3
   },
   "file_extension": ".py",
   "mimetype": "text/x-python",
   "name": "python",
   "nbconvert_exporter": "python",
   "pygments_lexer": "ipython3",
   "version": "3.8.3"
  }
 },
 "nbformat": 4,
 "nbformat_minor": 4
}

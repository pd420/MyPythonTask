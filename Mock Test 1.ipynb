{
 "cells": [
  {
   "cell_type": "markdown",
   "metadata": {},
   "source": [
    "### 1.\tWrite a python function to accept user inputs, store it in a list and compute the highest number out of it. User can enter as many numbers as he/she wants.\n",
    "#### Take care of following things:\n",
    "#### 1.\tInput must be entered by user\n",
    "#### 2.\tException handling\n",
    "#### 3.\tNull values\n",
    "#### 4.\tErrors\n",
    "#### 5.\tDatatypes\n",
    "#### Output of the function must be a number.\n",
    "#### It should accept correct values and for incorrect values, an error message must be displayed to the user.\n"
   ]
  },
  {
   "cell_type": "code",
   "execution_count": 1,
   "metadata": {},
   "outputs": [
    {
     "name": "stdout",
     "output_type": "stream",
     "text": [
      " Enter number of elements : 5\n",
      "2\n",
      "3\n",
      "4\n",
      "5\n",
      "6\n",
      "highest element in the list is :  6\n",
      "[2, 3, 4, 5, 6]\n",
      " Enter number of elements : 4\n",
      "2\n",
      "3\n",
      "4\n",
      "\n",
      "Error - You have inputed the null value or any other data type other than integer \n",
      "This is the list , till where you have inputed the integer values [2, 3, 4]\n"
     ]
    }
   ],
   "source": [
    "def maximum():\n",
    "        try:\n",
    "            list = []\n",
    "            while True:\n",
    "                list = []    \n",
    "                n = int(input(\" Enter number of elements : \")) \n",
    "  \n",
    "        # iterating till the range \n",
    "                for i in range(0, n): \n",
    "                    ele = int(input()) \n",
    "                    list.append(ele) # adding the element \n",
    "                print(\"highest element in the list is : \", max(list)) \n",
    "        #max() function is used for finding the maxmimun element in the datatype\n",
    "\n",
    "                print(list)\n",
    "                    \n",
    "         \n",
    "        except: \n",
    "    # everytime when the input is not-integer -(either there are null values or values of any other datatype),\n",
    "    # it will just print the list with those elements only which are in inputed by the user before the error occured \n",
    "            print(\"Error - You have inputed the null value or any other data type other than integer \")\n",
    "            print(\"This is the list , till where you have inputed the integer values\",list)    \n",
    "            \n",
    "maximum()          "
   ]
  },
  {
   "cell_type": "code",
   "execution_count": 1,
   "metadata": {},
   "outputs": [
    {
     "name": "stdout",
     "output_type": "stream",
     "text": [
      " Enter number of elements : 4\n",
      "3\n",
      "4\n",
      "5\n",
      "3\n",
      "highest element in the list is :  5\n",
      "[3, 4, 5, 3]\n",
      " Enter number of elements : 4\n",
      "6\n",
      "3\n",
      "h\n",
      "Error - You have inputed the null value or any other data type other than integer \n",
      "This is the list , till where you have inputed the integer values [6, 3]\n"
     ]
    }
   ],
   "source": [
    "def maximum():\n",
    "        try:\n",
    "            list = []\n",
    "            while True:\n",
    "                list = []    \n",
    "                n = int(input(\" Enter number of elements : \")) \n",
    "  \n",
    "        # iterating till the range \n",
    "                for i in range(0, n): \n",
    "                    ele = int(input()) \n",
    "                    list.append(ele) # adding the element \n",
    "                print(\"highest element in the list is : \", max(list)) \n",
    "        #max() function is used for finding the maxmimun element in the datatype\n",
    "\n",
    "                print(list)\n",
    "                    \n",
    "         \n",
    "        except: \n",
    "    # everytime when the input is not-integer -(either there are null values or values of any other datatype),\n",
    "    # it will just print the list with those elements only which are in inputed by the user before the error occured \n",
    "            print(\"Error - You have inputed the null value or any other data type other than integer \")\n",
    "            print(\"This is the list , till where you have inputed the integer values\",list)    \n",
    "            \n",
    "maximum()          "
   ]
  },
  {
   "cell_type": "code",
   "execution_count": null,
   "metadata": {},
   "outputs": [],
   "source": []
  }
 ],
 "metadata": {
  "kernelspec": {
   "display_name": "Python 3",
   "language": "python",
   "name": "python3"
  },
  "language_info": {
   "codemirror_mode": {
    "name": "ipython",
    "version": 3
   },
   "file_extension": ".py",
   "mimetype": "text/x-python",
   "name": "python",
   "nbconvert_exporter": "python",
   "pygments_lexer": "ipython3",
   "version": "3.8.3"
  }
 },
 "nbformat": 4,
 "nbformat_minor": 4
}

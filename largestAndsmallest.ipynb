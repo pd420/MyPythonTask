{
 "cells": [
  {
   "cell_type": "markdown",
   "metadata": {},
   "source": [
    "### Write a class which takes three inputs and returns the smallest and the largest number.\n",
    "Ex: ClassName.smallest(1,2,3) should return 1. ClassName.largest(1,2,3) should return 3."
   ]
  },
  {
   "cell_type": "code",
   "execution_count": 3,
   "metadata": {},
   "outputs": [
    {
     "name": "stdout",
     "output_type": "stream",
     "text": [
      "the largest number 5\n",
      "smallest number 0\n"
     ]
    }
   ],
   "source": [
    "class extreme:\n",
    "    def _init_(self,a,b,c):\n",
    "        self.a=a\n",
    "        self.b=b\n",
    "        self.c=c\n",
    "    def largest(a,b,c):\n",
    "        list = [a,b,c]\n",
    "        large = list[0]\n",
    "        for i in  list :\n",
    "            if i>large :\n",
    "                large=i\n",
    "        print (\"the largest number\",large)\n",
    "    def smallest(a,b,c):\n",
    "        list = [a,b,c]\n",
    "        small= list[0]\n",
    "        for i in list:\n",
    "            if i <small:\n",
    "                small = i \n",
    "        print (\"smallest number\",small)    \n",
    "        \n",
    "extreme.largest(1,4,5) \n",
    "extreme.smallest(2,3,0)\n",
    "        "
   ]
  },
  {
   "cell_type": "code",
   "execution_count": null,
   "metadata": {},
   "outputs": [],
   "source": []
  }
 ],
 "metadata": {
  "kernelspec": {
   "display_name": "Python 3",
   "language": "python",
   "name": "python3"
  },
  "language_info": {
   "codemirror_mode": {
    "name": "ipython",
    "version": 3
   },
   "file_extension": ".py",
   "mimetype": "text/x-python",
   "name": "python",
   "nbconvert_exporter": "python",
   "pygments_lexer": "ipython3",
   "version": "3.8.3"
  }
 },
 "nbformat": 4,
 "nbformat_minor": 4
}

{
 "cells": [
  {
   "cell_type": "markdown",
   "metadata": {},
   "source": [
    "### Write a class and method under it to perform squareRoot, cuberoot and Nth root of a number."
   ]
  },
  {
   "cell_type": "code",
   "execution_count": 14,
   "metadata": {},
   "outputs": [
    {
     "name": "stdout",
     "output_type": "stream",
     "text": [
      "enter a number:8\n",
      "Square Root\n",
      "2.8284271247461903\n",
      "Cube Root :\n",
      "2.00\n",
      "enter a nth value for which you want to find the nth root of a number:4\n",
      "enter the number :16\n"
     ]
    },
    {
     "data": {
      "text/plain": [
       "(2, True)"
      ]
     },
     "execution_count": 14,
     "metadata": {},
     "output_type": "execute_result"
    }
   ],
   "source": [
    "import math\n",
    "import numpy as np \n",
    "from sympy import *\n",
    "\n",
    "class roots :\n",
    "    \n",
    "    def __init__(root,number):\n",
    "        root.sqrt = math.sqrt(number)\n",
    "     \n",
    "    def cubeRoot(number): \n",
    "        ans = pow(3, (1.0 / 3) * (math.log(number) /\n",
    "                              math.log(3)))   \n",
    "        return ans\n",
    "    \n",
    "    def nthrootval(number,n):\n",
    "        number = int(input(\"enter the number :\"))\n",
    "        val = integer_nthroot(number, n)  \n",
    "        #With the help of sympy.integer_nthroot() method,\n",
    "        #we can find the nth roots of a number that is passed as a parameter in the sympy.integer_nthroot() method.\n",
    "        #It will return a tuple having two value one is root and the other is boolean value which shows that if the root is perfect or not.\n",
    "        #Syntax : sympy.integer_nthroot(val)\n",
    "        #Return : Return a tuple having root and boolean value. \n",
    "        return val\n",
    "  \n",
    "   \n",
    "num = int(input(\"enter a number:\"))\n",
    "p1 = roots(num)\n",
    "p1.sqrt\n",
    "p1.cubeRoot  \n",
    "print(\"Square Root\")\n",
    "print(p1.sqrt )\n",
    "print(\"Cube Root :\")\n",
    "print(\"%.2f\" % roots.cubeRoot(num))  \n",
    "n = int(input(\"enter a nth value for which you want to find the nth root of a number:\"))\n",
    "p2 = roots(n)\n",
    "p2.nthrootval(n)"
   ]
  },
  {
   "cell_type": "code",
   "execution_count": null,
   "metadata": {},
   "outputs": [],
   "source": []
  }
 ],
 "metadata": {
  "kernelspec": {
   "display_name": "Python 3",
   "language": "python",
   "name": "python3"
  },
  "language_info": {
   "codemirror_mode": {
    "name": "ipython",
    "version": 3
   },
   "file_extension": ".py",
   "mimetype": "text/x-python",
   "name": "python",
   "nbconvert_exporter": "python",
   "pygments_lexer": "ipython3",
   "version": "3.8.3"
  }
 },
 "nbformat": 4,
 "nbformat_minor": 4
}

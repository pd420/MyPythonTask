{
 "cells": [
  {
   "cell_type": "markdown",
   "metadata": {},
   "source": [
    "### A function to remove duplicate values in a string"
   ]
  },
  {
   "cell_type": "code",
   "execution_count": 1,
   "metadata": {},
   "outputs": [
    {
     "name": "stdout",
     "output_type": "stream",
     "text": [
      "Enter string: good\n",
      "Without Order =  dgo\n",
      "With Order =  god\n"
     ]
    }
   ],
   "source": [
    "from collections import OrderedDict  \n",
    "  \n",
    "# Function to remove all duplicates from string  \n",
    "# and order does not matter  \n",
    "def removeDupWithoutOrder(str):  \n",
    "  \n",
    "    # set() --> A Set is an unordered collection  \n",
    "    #        data type that is iterable, mutable,  \n",
    "    #        and has no duplicate elements.  \n",
    "    # \"\".join() --> It joins two adjacent elements in  \n",
    "    #            iterable with any symbol defined in  \n",
    "    #            \"\" ( double quotes ) and returns a  \n",
    "    #            single string  \n",
    "    return \"\".join(set(str))\n",
    " \n",
    "# Function to remove all duplicates from string  \n",
    "# and keep the order of characters same  \n",
    "def removeDupWithOrder(str):  \n",
    "    return \"\".join(OrderedDict.fromkeys(str))  \n",
    "\n",
    "str = input(\"Enter string: \")\n",
    "print (\"Without Order = \",removeDupWithoutOrder(str))  \n",
    "print (\"With Order = \",removeDupWithOrder(str)) "
   ]
  },
  {
   "cell_type": "code",
   "execution_count": null,
   "metadata": {},
   "outputs": [],
   "source": []
  }
 ],
 "metadata": {
  "kernelspec": {
   "display_name": "Python 3",
   "language": "python",
   "name": "python3"
  },
  "language_info": {
   "codemirror_mode": {
    "name": "ipython",
    "version": 3
   },
   "file_extension": ".py",
   "mimetype": "text/x-python",
   "name": "python",
   "nbconvert_exporter": "python",
   "pygments_lexer": "ipython3",
   "version": "3.8.3"
  }
 },
 "nbformat": 4,
 "nbformat_minor": 4
}
